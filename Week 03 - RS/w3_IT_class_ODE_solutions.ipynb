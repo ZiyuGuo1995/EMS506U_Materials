{
 "cells": [
  {
   "cell_type": "markdown",
   "metadata": {},
   "source": [
    "# Week 3 IT Class Ordinary Differential Equations"
   ]
  },
  {
   "cell_type": "markdown",
   "metadata": {},
   "source": [
    "## Question 1"
   ]
  },
  {
   "cell_type": "markdown",
   "metadata": {},
   "source": [
    "We have the ODE:\n",
    "\n",
    "$$\\frac{dy}{dt}=y$$\n",
    "\n",
    "subject to the initial condition $y(0)=1$.\n",
    "\n",
    "(a)\tUse the midpoint method and Python to calculate $y(1)$, with different time steps $h = 0.2, 0.05, 0.01, 0.002$.\n",
    "\n",
    "(b)\tPlot the difference between the exact value of $y(1)$ and the numerical approximation as a function $h$. \n",
    "\n",
    "(c)\tWith $h=0.2$, use the Euler and midpoint methods to calculate the time evolutions of $y$ and compare the results with the analytical solution in a plot.\n",
    "\n"
   ]
  },
  {
   "cell_type": "markdown",
   "metadata": {},
   "source": [
    "### Answer\n",
    "<b>(a) </b> Recall the analytical solution of thie ODE is:\n",
    "$$y=e^{t}.$$\n",
    "Similar as the Euler's method, we need to iterate multiple steps in midpoint method. The Python code is shown below:"
   ]
  },
  {
   "cell_type": "code",
   "execution_count": null,
   "metadata": {},
   "outputs": [],
   "source": [
    "import numpy as np      # Import related packages. Numpy: Fundamental scientific computing package.\n",
    "import math             # Math: Fundamentatal mathematical operations."
   ]
  },
  {
   "cell_type": "markdown",
   "metadata": {},
   "source": [
    "The iteration formula for the midpoint can be written as:\n",
    "$$y_{n+1} = y_{n}+h*f(t_{n+\\frac{1}{2}},y_{n+\\frac{1}{2}}).$$\n",
    "Where $t_{n+\\frac{1}{2}}$ and $y_{n+\\frac{1}{2}}$ are midpoints, can be represents as following:\n",
    "$$t_{n+\\frac{1}{2}} = t_{n}+\\frac{h}{2},$$\n",
    "$$y_{n+\\frac{1}{2}} = y_{n}+\\frac{h}{2}*f(t_n,y_n).$$\n",
    "And for this problem, $f(t_{n},y_{n}) = y_{n}$."
   ]
  },
  {
   "cell_type": "code",
   "execution_count": null,
   "metadata": {},
   "outputs": [],
   "source": [
    "h = 0.20                # You can change h here, h=0.2,0.05,0.01,0.002\n",
    "nsteps = math.floor(1/h)# Number of iterations for t=1 with the time step h\n",
    "f = lambda t , y : y    # Defination of the function f(t,y)=y\n",
    "y = 1                   # Initial value. y(t=0)=1.\n",
    "t = 0                   # start from t=0\n",
    "for i in range(nsteps):\n",
    "    t_mid = t + h/2               # midpoint of t: t_n+1/2=t_n+h/2\n",
    "    y_mid = y + h/2 * f(t,y)      # midpoint of y: y_n+1/2=y_n+h/2*f(t_n,y_n)\n",
    "    y = (y + h * f(t_mid, y_mid)) # iteration with the midpoint method: y_n+1=y_n+h*f(y_n+1/2,t_n+1/2).\n",
    "    t = t + h                     # Update of current time\n",
    "\n",
    "print(f'Using the midpoint method with h =', h, 'y(1) =', y)\n",
    "\n",
    "diff = abs(y - math.exp(1))       # Error of the numerical solution.\n",
    "print(f'The difference between the numerical and analytical solutions is', diff)"
   ]
  },
  {
   "cell_type": "markdown",
   "metadata": {},
   "source": [
    "<b>(b)</b> We now calculate $diff$ at different $h$ values and plot the result. Please use the code above and fill your results in the two arrays <b>hs</b> and <b>diffs</b> in the code below."
   ]
  },
  {
   "cell_type": "code",
   "execution_count": null,
   "metadata": {},
   "outputs": [],
   "source": [
    "import matplotlib.pyplot as plt\n",
    "\n",
    "# Please calculate difference between analytical solution and nuemrical solution using previous code section.\n",
    "hs=[0.002,0.01,0.05,0.2]       #h values\n",
    "diffs=[1.80947117e-06,4.49658991e-05,0.00109077410,0.015573665259]       #Difference between numerical and analytical solution\n",
    "\n",
    "# Plot time step vs error in dual log scale.\n",
    "plt.plot(hs,diffs,'--o')\n",
    "plt.xlabel('h')\n",
    "plt.ylabel('diff')\n",
    "plt.xscale('log')\n",
    "plt.yscale('log')\n",
    "plt.axis('equal')\n",
    "plt.grid()\n",
    "plt.show()"
   ]
  },
  {
   "cell_type": "markdown",
   "metadata": {},
   "source": [
    "<b>(c)</b> We need to use arrays to store the time evolutions of $y$. "
   ]
  },
  {
   "cell_type": "code",
   "execution_count": null,
   "metadata": {},
   "outputs": [],
   "source": [
    "#analytical solution \n",
    "h = 0.02\n",
    "nsteps = math.floor(1/h)       # Number of iterations, 1s.\n",
    "t_a = np.zeros(nsteps+1)       # Initialize zero arrays to store time evolution history.\n",
    "y_a = np.zeros(nsteps+1)       # You can also use Python list for same purpose\n",
    "t_a[0] = 0                     # Initial value. T(t=0)=100.\n",
    "y_a[0] = 1\n",
    "for i in range(nsteps):        # Analytical solution loop\n",
    "    t_a[i+1] = t_a[i] + h      # Update time poinr first, so we can calculate analytical results for next time point.\n",
    "    y_a[i+1] = math.exp(t_a[i+1]) # Analytical solution: y(t) = e ^ (t)\n",
    "\n",
    "#numerical solution with Euler's method    \n",
    "h = 0.2\n",
    "nsteps = math.floor(1/h) \n",
    "t_e = np.zeros(nsteps+1)\n",
    "y_e = np.zeros(nsteps+1)\n",
    "t_e[0] = 0\n",
    "y_e[0] = 1\n",
    "for i in range(nsteps):        # Euler's method solution loop\n",
    "    y_e[i+1] = y_e[i] + h * f(t_e[i],y_e[i])    # Euler iteration step, array implementation. yn+1 = yn + h * f(yn,tn).\n",
    "    t_e[i+1] = t_e[i] + h                       # Update time t.\n",
    "\n",
    "#numerical solution with midpoint method\n",
    "t_m = np.zeros(nsteps+1)\n",
    "y_m = np.zeros(nsteps+1)\n",
    "t_m[0] = 0\n",
    "y_m[0] = 1\n",
    "for i in range(nsteps):        # Midpoint method solution loop\n",
    "    t_mid = t_m[i] + h/2                        # Midpoint tn+1/2 = tn + h / 2\n",
    "    y_mid = y_m[i] + h / 2 * f(t_m[i], y_m[i])  # Midpoint yn+1/2 = yn + h / 2 * f(tn+1/2 , yn+1/2)\n",
    "    y_m[i+1] = y_m[i] + h * f(t_mid, y_mid)     # yn+1 = yn + h * f(tn+1/2 , yn+1/2)\n",
    "    t_m[i+1] = t_m[i] + h                       # Update time t.\n",
    "\n",
    "# Plot t-y diagram of all three methods in the same plot to see the difference.\n",
    "plt.plot(t_a,y_a,label='Analytical')\n",
    "plt.plot(t_e,y_e,'--o',color='g',label='Euler\\'s method')\n",
    "plt.plot(t_m,y_m,'--o',color='orange',label='Midpoint method')\n",
    "plt.xlabel('t')\n",
    "plt.ylabel('y')\n",
    "plt.title('Comparison of two numerical results and analytical solution')\n",
    "plt.grid()\n",
    "plt.legend()\n",
    "plt.show()"
   ]
  },
  {
   "cell_type": "markdown",
   "metadata": {},
   "source": [
    "\n",
    "\n",
    "\n",
    " \n",
    "\n",
    "\n",
    "\n",
    "\n",
    "\n",
    "\n",
    "\n",
    "\n",
    " "
   ]
  },
  {
   "cell_type": "markdown",
   "metadata": {},
   "source": [
    "## Question 2"
   ]
  },
  {
   "cell_type": "markdown",
   "metadata": {},
   "source": [
    "Edward Lorenz proposed a system of ODEs as a simple model of atmospheric convection to predict weather. Lorenz attractor is a specific set of equations of the Lorenz system, that shows chaotic behavior\n",
    "\n",
    "$$\\frac{dx}{dt} = 10(y-x)$$\n",
    "\n",
    "$$\\frac{dy}{dt} = x(27-z)-y$$\n",
    "\n",
    "$$\\frac{dz}{dt} = xy-\\frac{8}{3}z$$\n",
    "\n",
    "(a) Assume at $t = 0$, $(x,y,z) = (1,0,0)$, use the midpoint and $h = 0.01$ to calculate the history of $x$ till $t = 30$, plot $x$ vs $t$, and $x$ vs $z$\n",
    "\n",
    "(b) Repeat (a) for a different initial condition with $(x,y,z) = (1,0.01,0.01)$, compare the histories of $x$ for the two initial conditions\n",
    "\n",
    "(c) Change the constant in equation (2) from $27$ to $20$, repeat step (a), and compare the $x$ vs $z$ plots\n",
    "\n"
   ]
  },
  {
   "cell_type": "markdown",
   "metadata": {},
   "source": [
    "## Answer\n",
    "<b>(a)</b> We use $f_x$, $f_y$ and $f_z$ to represent the time derivatives of $x$, $y$ and $z$, respectively: \n",
    "$$f_x = \\frac{dx}{dt} = 10 (y - x),$$\n",
    "$$f_y = \\frac{dy}{dt} = x (27 - z) - y,$$\n",
    "$$f_z = \\frac{dz}{dt} = xy - \\frac{8}{3} z.$$"
   ]
  },
  {
   "cell_type": "code",
   "execution_count": null,
   "metadata": {},
   "outputs": [],
   "source": [
    "# Defination fx, fy, and fz\n",
    "fx = lambda x,y,z,t : 10 * (y - x)        # fx = dx/dt = 10(y - x)\n",
    "fy = lambda x,y,z,t : x * (27 - z) - y    # fy = dy/dt = x(27 - z) - y\n",
    "fz = lambda x,y,z,t : x * y - 8/3 * z     # fz = dz/dt = xy - 8/3 * z\n",
    "\n",
    "\n",
    "h = 0.01                        # Setting up time step\n",
    "nsteps = math.floor(30/h)       # Number of iterations, 30s.\n",
    "x = np.zeros(nsteps+1)          # Initialize zero arrays for evolution history of x, y, z with t.\n",
    "y = np.zeros(nsteps+1)\n",
    "z = np.zeros(nsteps+1)\n",
    "t = np.zeros(nsteps+1)\n",
    "x[0] = 1                        # Initial value for this problem x(0) = 1, y(0) = 0, z(0) = 0\n",
    "y[0] = 0\n",
    "z[0] = 0\n",
    "t[0] = 0\n",
    "\n",
    "for i in range(nsteps):         # Mid point solution loop\n",
    "    x_dot = fx(x[i],y[i],z[i],t[i])    # Calculate derivatives\n",
    "    y_dot = fy(x[i],y[i],z[i],t[i])\n",
    "    z_dot = fz(x[i],y[i],z[i],t[i])\n",
    "    x_mid = x[i] + x_dot * h / 2       # Update midpoint values\n",
    "    y_mid = y[i] + y_dot * h / 2\n",
    "    z_mid = z[i] + z_dot * h / 2\n",
    "    t_mid = t[i] + h / 2\n",
    "    # Calculate x, y, z, t through midpoint method\n",
    "    x[i+1] = x[i] + h * fx(x_mid,y_mid,z_mid,t_mid)\n",
    "    y[i+1] = y[i] + h * fy(x_mid,y_mid,z_mid,t_mid)\n",
    "    z[i+1] = z[i] + h * fz(x_mid,y_mid,z_mid,t_mid)\n",
    "    t[i+1] = t[i] + h"
   ]
  },
  {
   "cell_type": "markdown",
   "metadata": {},
   "source": [
    "Now we can plot evolution history of x and x vs z plot."
   ]
  },
  {
   "cell_type": "code",
   "execution_count": null,
   "metadata": {},
   "outputs": [],
   "source": [
    "plt.plot(t,x)\n",
    "plt.xlabel('t')\n",
    "plt.ylabel('x')\n",
    "plt.show()"
   ]
  },
  {
   "cell_type": "code",
   "execution_count": null,
   "metadata": {},
   "outputs": [],
   "source": [
    "plt.plot(x,z)\n",
    "plt.xlabel('x')\n",
    "plt.ylabel('z')\n",
    "plt.show()"
   ]
  },
  {
   "cell_type": "markdown",
   "metadata": {},
   "source": [
    "For a better demonstration, we plot this diagram into an animation. This code section only for demonstration purpose and not a compulsory content. You can try different parameters to see how the variables changes with different equation parameters."
   ]
  },
  {
   "cell_type": "code",
   "execution_count": null,
   "metadata": {},
   "outputs": [],
   "source": [
    "from matplotlib.animation import FuncAnimation\n",
    "import matplotlib\n",
    "matplotlib.rcParams['animation.embed_limit'] = 512\n",
    "from IPython.display import HTML\n",
    "\n",
    "fig, ax = plt.subplots()\n",
    "line, = ax.plot([],[])\n",
    "scatter = ax.scatter([],[])\n",
    "ax.set_xlim(-20,20)\n",
    "ax.set_ylim(0,50)\n",
    "\n",
    "ani_x = []\n",
    "ani_z = []\n",
    "def animate(i):\n",
    "    ani_x.append(x[2*i])\n",
    "    ani_z.append(z[2*i])\n",
    "    line.set_data(ani_x,ani_z)\n",
    "    scatter.set_offsets([ani_x[-1],ani_z[-1]])\n",
    "    return line,scatter\n",
    "\n",
    "ani = FuncAnimation(fig,animate,frames=1500,interval=20,repeat=False)\n",
    "HTML(ani.to_jshtml())"
   ]
  },
  {
   "cell_type": "markdown",
   "metadata": {},
   "source": [
    "(b) Now we change the initial value to test its effect."
   ]
  },
  {
   "cell_type": "code",
   "execution_count": null,
   "metadata": {},
   "outputs": [],
   "source": [
    "x1 = np.zeros(nsteps+1)\n",
    "y1 = np.zeros(nsteps+1)\n",
    "z1 = np.zeros(nsteps+1)\n",
    "t1 = np.zeros(nsteps+1)\n",
    "x1[0] = 1\n",
    "y1[0] = 0.01\n",
    "z1[0] = 0.01\n",
    "t1[0] = 0\n",
    "\n",
    "for i in range(nsteps):\n",
    "    x_dot = fx(x1[i],y1[i],z1[i],t1[i])\n",
    "    y_dot = fy(x1[i],y1[i],z1[i],t1[i])\n",
    "    z_dot = fz(x1[i],y1[i],z1[i],t1[i])\n",
    "    x_mid = x1[i] + x_dot * h / 2\n",
    "    y_mid = y1[i] + y_dot * h / 2\n",
    "    z_mid = z1[i] + z_dot * h / 2\n",
    "    t_mid = t1[i] + h / 2\n",
    "    x1[i+1] = x1[i] + h * fx(x_mid,y_mid,z_mid,t_mid)\n",
    "    y1[i+1] = y1[i] + h * fy(x_mid,y_mid,z_mid,t_mid)\n",
    "    z1[i+1] = z1[i] + h * fz(x_mid,y_mid,z_mid,t_mid)\n",
    "    t1[i+1] = t1[i] + h"
   ]
  },
  {
   "cell_type": "markdown",
   "metadata": {},
   "source": [
    "Now we plot the same plots as (b) and see the difference of two initial values."
   ]
  },
  {
   "cell_type": "code",
   "execution_count": null,
   "metadata": {},
   "outputs": [],
   "source": [
    "plt.plot(t,x,label='Initial value (1,0,0)')\n",
    "plt.plot(t1,x1,label='Initial value (1,0.01,0.01)')\n",
    "plt.legend()\n",
    "plt.xlabel('t')\n",
    "plt.ylabel('x')\n",
    "plt.show()"
   ]
  },
  {
   "cell_type": "code",
   "execution_count": null,
   "metadata": {},
   "outputs": [],
   "source": [
    "plt.plot(x,z,label='Initial value (1,0,0)')\n",
    "plt.plot(x1,z1,label='Initial value (1,0.01,0.01)')\n",
    "plt.legend()\n",
    "plt.xlabel('x')\n",
    "plt.ylabel('z')\n",
    "plt.show()"
   ]
  },
  {
   "cell_type": "markdown",
   "metadata": {},
   "source": [
    "We also animate time evolution of x-z and show as below:"
   ]
  },
  {
   "cell_type": "code",
   "execution_count": null,
   "metadata": {},
   "outputs": [],
   "source": [
    "fig, ax = plt.subplots()\n",
    "line, = ax.plot([],[])\n",
    "scatter = ax.scatter([],[])\n",
    "line1, = ax.plot([],[])\n",
    "scatter1 = ax.scatter([],[])\n",
    "ax.set_xlim(-20,20)\n",
    "ax.set_ylim(0,50)\n",
    "\n",
    "ani_x = []\n",
    "ani_z = []\n",
    "ani_x1 = []\n",
    "ani_z1 = []\n",
    "def animate(i):\n",
    "    ani_x.append(x[2*i])\n",
    "    ani_z.append(z[2*i])\n",
    "    ani_x1.append(x1[2*i])\n",
    "    ani_z1.append(z1[2*i])\n",
    "    line.set_data([ani_x],[ani_z])\n",
    "    line1.set_data([ani_x1],[ani_z1])\n",
    "    line1.set_color('orange')\n",
    "    scatter.set_offsets([ani_x[-1], ani_z[-1]])\n",
    "    scatter1.set_offsets([ani_x1[-1], ani_z1[-1]])\n",
    "    scatter1.set_color('orange')\n",
    "    return line,scatter\n",
    "\n",
    "ani = FuncAnimation(fig,animate,frames=1500,interval=20,repeat=False)\n",
    "HTML(ani.to_jshtml())"
   ]
  },
  {
   "cell_type": "markdown",
   "metadata": {},
   "source": [
    "<b> (c) </b> We reload the Lorenz equations with different parameters, and use midpoint method to solve them at initial condition of $x(0) = 1, y(0) = 0, z(0) = 0$. The code shown below:"
   ]
  },
  {
   "cell_type": "code",
   "execution_count": null,
   "metadata": {},
   "outputs": [],
   "source": [
    "fx = lambda x,y,z,t : 10 * (y - x)\n",
    "fy = lambda x,y,z,t : x * (20 - z) - y\n",
    "fz = lambda x,y,z,t : x * y - 8/3 * z\n",
    "\n",
    "h = 0.01\n",
    "nsteps = math.floor(30/h)\n",
    "x2 = np.zeros(nsteps+1)\n",
    "y2 = np.zeros(nsteps+1)\n",
    "z2 = np.zeros(nsteps+1)\n",
    "t2 = np.zeros(nsteps+1)\n",
    "x2[0] = 1\n",
    "y2[0] = 0\n",
    "z2[0] = 0\n",
    "t2[0] = 0\n",
    "\n",
    "for i in range(nsteps):\n",
    "    x_dot = fx(x2[i],y2[i],z2[i],t2[i])\n",
    "    y_dot = fy(x2[i],y2[i],z2[i],t2[i])\n",
    "    z_dot = fz(x2[i],y2[i],z2[i],t2[i])\n",
    "    x_mid = x2[i] + x_dot * h / 2\n",
    "    y_mid = y2[i] + y_dot * h / 2\n",
    "    z_mid = z2[i] + z_dot * h / 2\n",
    "    t_mid = t2[i] + h / 2\n",
    "    x2[i+1] = x2[i] + h * fx(x_mid,y_mid,z_mid,t_mid)\n",
    "    y2[i+1] = y2[i] + h * fy(x_mid,y_mid,z_mid,t_mid)\n",
    "    z2[i+1] = z2[i] + h * fz(x_mid,y_mid,z_mid,t_mid)\n",
    "    t2[i+1] = t2[i] + h"
   ]
  },
  {
   "cell_type": "markdown",
   "metadata": {},
   "source": [
    "Finally we plot the difference of x vs z under these two parameter sets."
   ]
  },
  {
   "cell_type": "code",
   "execution_count": null,
   "metadata": {},
   "outputs": [],
   "source": [
    "plt.plot(x,z,label='Equation parameter 27')\n",
    "plt.plot(x2,z2,label='Equation parameter 20')\n",
    "plt.xlabel('x')\n",
    "plt.ylabel('z')\n",
    "plt.show()"
   ]
  },
  {
   "cell_type": "markdown",
   "metadata": {},
   "source": [
    "Last, we also plot animate the time evolution of x-z diagram, shown below."
   ]
  },
  {
   "cell_type": "code",
   "execution_count": null,
   "metadata": {},
   "outputs": [],
   "source": [
    "fig, ax = plt.subplots()\n",
    "line, = ax.plot([],[])\n",
    "scatter = ax.scatter([],[])\n",
    "line1, = ax.plot([],[])\n",
    "scatter1 = ax.scatter([],[])\n",
    "ax.set_xlim(-20,20)\n",
    "ax.set_ylim(0,50)\n",
    "\n",
    "ani_x = []\n",
    "ani_z = []\n",
    "ani_x2 = []\n",
    "ani_z2 = []\n",
    "def animate(i):\n",
    "    ani_x.append(x[2*i])\n",
    "    ani_z.append(z[2*i])\n",
    "    ani_x2.append(x2[2*i])\n",
    "    ani_z2.append(z2[2*i])\n",
    "    line.set_data([ani_x],[ani_z])\n",
    "    line1.set_data([ani_x2],[ani_z2])\n",
    "    line1.set_color('orange')\n",
    "    scatter.set_offsets([ani_x[-1], ani_z[-1]])\n",
    "    scatter1.set_offsets([ani_x2[-1], ani_z2[-1]])\n",
    "    scatter1.set_color('orange')\n",
    "    return line,scatter\n",
    "\n",
    "ani = FuncAnimation(fig,animate,frames=1500,interval=20,repeat=False)\n",
    "HTML(ani.to_jshtml())"
   ]
  },
  {
   "cell_type": "markdown",
   "metadata": {},
   "source": [
    "Appearantly, with parameter 27, the Lorenz equation goes to chaotic around two attractors, but whtn parameter is 20, the equation convergence to a point"
   ]
  },
  {
   "cell_type": "code",
   "execution_count": null,
   "metadata": {},
   "outputs": [],
   "source": []
  },
  {
   "cell_type": "code",
   "execution_count": null,
   "metadata": {},
   "outputs": [],
   "source": []
  }
 ],
 "metadata": {
  "kernelspec": {
   "display_name": "Python 3 (ipykernel)",
   "language": "python",
   "name": "python3"
  },
  "language_info": {
   "codemirror_mode": {
    "name": "ipython",
    "version": 3
   },
   "file_extension": ".py",
   "mimetype": "text/x-python",
   "name": "python",
   "nbconvert_exporter": "python",
   "pygments_lexer": "ipython3",
   "version": "3.9.15"
  },
  "vscode": {
   "interpreter": {
    "hash": "56a724022be73b01c4846531e8be100ed5def243897ed9e6394701cd28182959"
   }
  }
 },
 "nbformat": 4,
 "nbformat_minor": 2
}
