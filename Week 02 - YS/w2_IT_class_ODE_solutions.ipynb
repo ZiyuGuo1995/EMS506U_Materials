{
 "cells": [
  {
   "cell_type": "markdown",
   "metadata": {},
   "source": [
    "# Week 2 IT Class Ordinary Differential Equations"
   ]
  },
  {
   "cell_type": "markdown",
   "metadata": {},
   "source": [
    "## Question 1"
   ]
  },
  {
   "cell_type": "markdown",
   "metadata": {},
   "source": [
    "We have the ODE:\n",
    "\n",
    "$$\\frac{dy}{dt} = y$$\n",
    "\n",
    "subject to the initial condition $y(0) = 1$.\n",
    "\n",
    "(a)\tFind the particular solution of $y(t)$, and calculate $y(1)$.\n",
    "\n",
    "(b)\tUsing Euler’s method and Python to calculate $y(1)$, with different time steps $h$ = 0.2, 0.05, 0.01 and 0.002.\n",
    "\n",
    "(c)\tCompare the results from the two methods, plot the difference between the exact value and the Euler approximation as a function of the time step $h$."
   ]
  },
  {
   "cell_type": "markdown",
   "metadata": {},
   "source": [
    "## Answer:\n",
    "<b>(a)</b> we use the method of seperation of variables:\n",
    "\n",
    "\n",
    "$$\\frac{dy}{y} = dt.$$\n",
    "\n",
    "integrate both sides\n",
    "\n",
    "$$\\int \\frac{dy}{y} = \\int dt,$$\n",
    "\n",
    "we have\n",
    "\n",
    "$$ln(y) = t+C,$$\n",
    "\n",
    "$$y = Ce^{t}.$$\n",
    "\n",
    "Apply initial condition $y(0)=1$, we have $$ C =1 $$, then the particlar solution is:\n",
    " \n",
    "$$y = e^{t},$$\n",
    "\n",
    "and $y(1) = e$\n",
    "\n",
    "\n",
    "\n"
   ]
  },
  {
   "cell_type": "markdown",
   "metadata": {},
   "source": [
    "<b>(b)</b> For (b), we need to iterate for multiple steps. The Python code is shown below:"
   ]
  },
  {
   "cell_type": "code",
   "execution_count": 1,
   "metadata": {},
   "outputs": [],
   "source": [
    "import numpy as np      # Import related packages. Numpy: Fundamental scientific computing package.\n",
    "import math             # Math: Fundamentatal mathematical operations."
   ]
  },
  {
   "cell_type": "markdown",
   "metadata": {},
   "source": [
    "The iteration formula for the Euler's method can be written as:\n",
    "$$y_{n+1} = y_{n}+h*f(t_n,y_n),$$\n",
    "where $y_{n}$ and $y_{n+1}$ represent the values of $y$ at the current and the next time step, respectively. For the present problem, $f(t_n,y_n)=y_n$."
   ]
  },
  {
   "cell_type": "code",
   "execution_count": 2,
   "metadata": {},
   "outputs": [
    {
     "name": "stdout",
     "output_type": "stream",
     "text": [
      "Using the Euler's method with h = 0.01 , y(1) = 2.704813829421526\n",
      "The difference between the numerical and analytical solutions is 0.013467998578474027\n"
     ]
    }
   ],
   "source": [
    "h = 0.01                  # You can change h here, h=0.2,0.05,0.01,0.002\n",
    "nsteps = math.floor(1/h)  # Number of iterations for t=1 with the time step h\n",
    "f = lambda t,y : y          # Defination of the function f(t,y)=y\n",
    "y = 1                     # Initial value. y(t=0)=1.\n",
    "t = 0                     # start from t=0\n",
    "for i in range(nsteps):\n",
    "    y = y + h * f(t , y)        # iteration with the Euler's method: y_n+1=y_n+h*f(y_n,t_n).\n",
    "    t = t + h               # Update of current time\n",
    "print('Using the Euler\\'s method with h =', h, ', y(1) =', y)\n",
    "\n",
    "e = 2.718281828           # Euler's number. Analytical solution of y(1).\n",
    "diff = abs(y - e)           # Error of the numerical solution.\n",
    "print('The difference between the numerical and analytical solutions is', diff)"
   ]
  },
  {
   "cell_type": "markdown",
   "metadata": {},
   "source": [
    "<b>(c)</b> We now calculate $diff$ at different h values and plot the result. Please use the code above and fill your results in the two arrays <b>hs</b> and <b>diffs</b> in the code below."
   ]
  },
  {
   "cell_type": "code",
   "execution_count": 3,
   "metadata": {},
   "outputs": [
    {
     "data": {
      "image/png": "[encoded data removed]",
      "text/plain": [
       "<Figure size 432x288 with 1 Axes>"
      ]
     },
     "metadata": {
      "needs_background": "light"
     },
     "output_type": "display_data"
    }
   ],
   "source": [
    "import matplotlib.pyplot as plt\n",
    "\n",
    "# Please calculate difference between analytical solution and nuemrical solution using previous code section.\n",
    "hs = [0.002,0.01,0.05,0.2]       #h values\n",
    "diffs = [0.0027133074,0.0134679986,0.0649841229,0.2299618280]       #Difference between numerical and analytical solution\n",
    "\n",
    "# Plot time step vs error in dual log scale.\n",
    "plt.plot(hs,diffs,'--o')\n",
    "plt.xlabel('h')\n",
    "plt.ylabel('diff')\n",
    "plt.xscale('log')\n",
    "plt.yscale('log')\n",
    "plt.axis('equal')\n",
    "plt.grid()\n",
    "plt.show()"
   ]
  },
  {
   "cell_type": "markdown",
   "metadata": {},
   "source": [
    "Now measure the slope of the h-diff plot. We can see the error of Euler's method is propotional to step $h$."
   ]
  },
  {
   "cell_type": "markdown",
   "metadata": {},
   "source": [
    "\n",
    "\n",
    "\n",
    "\n",
    "\n"
   ]
  },
  {
   "cell_type": "markdown",
   "metadata": {},
   "source": [
    "## Question 2"
   ]
  },
  {
   "cell_type": "markdown",
   "metadata": {},
   "source": [
    "Use the Euler’s method and Python programming to calculate the temperature of an object that follows the Newton’s cooling law:\n",
    "\n",
    "$$\\frac{dT}{dt} = -k(T-T_{s}).$$\n",
    "\n",
    "The initial temperature of the object is $100^{\\circ}C$ at $t = 0$, and the environment temperature $T_{s} = 20^{\\circ}C$. The constant $k = 1  (1/s)$. \n",
    "\n",
    "(a)\tFind the particular solution of $T(t)$, and calculate $T(1)$.\n",
    "\n",
    "(b)\tUse Euler’s method and Python to calculate $T(1)$, with different time steps $h =$ 0.2, 0.1, 0.02, 0.002.\n",
    "\n",
    "(c)\tCompare the results from the two methods, plot the difference between the exact value and the Euler approximation as a function of the time step $h$.\n",
    "\n",
    "(d)\tPlot the time evolutions of the temperature till $t = 2s$, with $h=$0.2, 0.1 and 0.02, and compare the results with the analytical solution in the same figure.\n"
   ]
  },
  {
   "cell_type": "markdown",
   "metadata": {},
   "source": [
    "## Answer:\n",
    "<b>(a)</b> use the method of seperation of variables, rewrite the ODE as\n",
    "\n",
    "$$\\frac{dT}{T-T_{s}} = -kdt.$$\n",
    "\n",
    "integrate bth sides\n",
    "\n",
    "$$ln(T-T_{s}) = -kt+C,$$\n",
    "\n",
    "$$T = Ce^{-kt}+T_{s}.$$\n",
    "\n",
    "with $T_s = 20 ^{\\circ}C$, and $k=1 s^{-1}$, apply initial condition $T(0) = 100 ^{\\circ}C$, we easily get the particlar solution:\n",
    " \n",
    "$$T = 80e^{-t}+20,$$\n",
    "\n",
    "and $T(1) = 49.43 ^{\\circ}C$."
   ]
  },
  {
   "cell_type": "markdown",
   "metadata": {},
   "source": [
    "<b>(b)</b> We need to iterate using Python"
   ]
  },
  {
   "cell_type": "code",
   "execution_count": 4,
   "metadata": {},
   "outputs": [
    {
     "name": "stdout",
     "output_type": "stream",
     "text": [
      "Using Euler's method with h = 0.2, y(1) = 46.2144.\n",
      "The difference between the numerical and analytical solutions is 3.215955293715389\n"
     ]
    }
   ],
   "source": [
    "h = 0.2\n",
    "nsteps = math.floor(1/h)  # Number of iterations, 1s\n",
    "f = lambda t,T : -(T - 20)    # Function defination. f(t,T)=-(T-20).\n",
    "t = 0                     # Initial value. T(t=0)=100.\n",
    "T = 100\n",
    "for i in range(nsteps):\n",
    "    T = T + h * f(t , T)        # Euler iteration step. yn+1=yn+h*f(yn,tn).\n",
    "    t = t + h               # Update current time.\n",
    "print(f'Using Euler\\'s method with h = {h}, y(1) = {T}.')\n",
    "diff=abs(T - 80 * math.exp(-1) - 20)\n",
    "print('The difference between the numerical and analytical solutions is', diff)"
   ]
  },
  {
   "cell_type": "markdown",
   "metadata": {},
   "source": [
    "<b>(c)</b> Plot h vs difference\n",
    "Please use the code above and fill your results in the two arrays <b>hs</b> and <b>diffs</b> in the code below."
   ]
  },
  {
   "cell_type": "code",
   "execution_count": 5,
   "metadata": {},
   "outputs": [
    {
     "data": {
      "image/png": "[encoded data removed]",
      "text/plain": [
       "<Figure size 432x288 with 1 Axes>"
      ]
     },
     "metadata": {
      "needs_background": "light"
     },
     "output_type": "display_data"
    }
   ],
   "source": [
    "# Please calculate difference between analytical solution and nuemrical solution using previous code section.\n",
    "hs = [0.002,0.02,0.1,0.2]             # h values\n",
    "diffs = [0.0294549051,0.296780889,1.5360800857,3.215955294]   # Difference between numerical and analytical solution\n",
    "\n",
    "plt.plot(hs,diffs,'--o')\n",
    "plt.xlabel('h')\n",
    "plt.ylabel('Diff')\n",
    "plt.xscale('log')\n",
    "plt.yscale('log')\n",
    "plt.axis('equal')\n",
    "plt.grid()\n",
    "plt.show()"
   ]
  },
  {
   "cell_type": "markdown",
   "metadata": {},
   "source": [
    "<b>(d)</b> In order to plot the time evolution of temperature, we need an array to store the intantaneous temperature at every time step. The code is changed as following:"
   ]
  },
  {
   "cell_type": "code",
   "execution_count": 6,
   "metadata": {},
   "outputs": [
    {
     "data": {
      "image/png": "[encoded data removed]",
      "text/plain": [
       "<Figure size 432x288 with 1 Axes>"
      ]
     },
     "metadata": {
      "needs_background": "light"
     },
     "output_type": "display_data"
    }
   ],
   "source": [
    "# analytical solution\n",
    "h = 0.02\n",
    "nsteps = math.floor(2/h)          # Number of iterations, 2s.\n",
    "t_a = np.zeros(nsteps+1)          # time array\n",
    "T_a = np.zeros(nsteps+1)          # temperature array\n",
    "t_a[0] = 0                        # Initial value. T(t = 0) = 100.\n",
    "T_a[0] = 100                      # We create array here to store all time evolution history.\n",
    "for i in range(nsteps):\n",
    "    t_a[i+1] = t_a[i] + h\n",
    "    T_a[i+1] = 80 * math.exp(-t_a[i+1]) + 20       # Euler iteration step, array implementation. yn+1=yn+h*f(yn,tn).\n",
    "\n",
    "#numerical solution with h=0.02     \n",
    "h = 0.02\n",
    "nsteps = math.floor(2/h)          # Number of iterations, 2s.\n",
    "t_02 = np.zeros(nsteps+1)\n",
    "T_02 = np.zeros(nsteps+1)\n",
    "t_02[0] = 0                       # Initial value. T(t=0)=100.\n",
    "T_02[0] = 100                     # We create array here to store all time evolution history.\n",
    "for i in range(nsteps):\n",
    "    T_02[i+1] = T_02[i] + h * f(t_02[i] , T_02[i])    # Euler iteration step, array implementation. yn+1=yn+h*f(yn,tn).\n",
    "    t_02[i+1] = t_02[i] + h                       # Append current time to array t.\n",
    "\n",
    "h = 0.1\n",
    "nsteps = math.floor(2/h)      # Number of iterations, 2s.\n",
    "t_1 = np.zeros(nsteps+1)\n",
    "T_1 = np.zeros(nsteps+1)\n",
    "t_1[0] = 0                       # Initial value. T(t=0)=100.\n",
    "T_1[0] = 100                     # We create array here to store all time evolution history.\n",
    "for i in range(nsteps):\n",
    "    T_1[i+1] = T_1[i] + h * f(t_1[i] , T_1[i])      # Euler iteration step, array implementation. yn+1=yn+h*f(yn,tn).\n",
    "    t_1[i+1] = t_1[i] + h                       # Append current time to array t.\n",
    "\n",
    "h = 0.2\n",
    "nsteps = math.floor(2/h)      # Number of iterations, 2s.\n",
    "t_2 = np.zeros(nsteps+1)\n",
    "T_2 = np.zeros(nsteps+1)\n",
    "t_2[0] = 0                       # Initial value. T(t=0)=100.\n",
    "T_2[0] = 100                     # We create array here to store all time evolution history.\n",
    "for i in range(nsteps):\n",
    "    T_2[i+1] = T_2[i] + h * f(t_2[i] , T_2[i])      # Euler iteration step, array implementation. yn+1=yn+h*f(yn,tn).\n",
    "    t_2[i+1] = t_2[i] + h                       # Append current time to array t.\n",
    "\n",
    "\n",
    "# Now we plot all these four curves in the same figure.\n",
    "plt.plot(t_a,T_a,label='Exact solution')\n",
    "plt.plot(t_2,T_2,'--',label='Numerical solution h=0.2')\n",
    "plt.plot(t_1,T_1,'--',label='Numerical solution h=0.1')\n",
    "plt.plot(t_02,T_02,'--',label='Numerical solution h=0.02')\n",
    "plt.title('Comparison of exact and numerical solutions')\n",
    "plt.xlabel('t')\n",
    "plt.ylabel('T(t)')\n",
    "plt.grid()\n",
    "plt.legend()\n",
    "plt.show()"
   ]
  },
  {
   "cell_type": "markdown",
   "metadata": {},
   "source": [
    "The code below uses a more generalized function to solve the ODE with the Euler's method. You can read it if you are interested. The content will not tested in exams. "
   ]
  },
  {
   "cell_type": "code",
   "execution_count": 7,
   "metadata": {},
   "outputs": [
    {
     "name": "stdout",
     "output_type": "stream",
     "text": [
      "The value of T(1) at step h=0.2 is 46.2144. Analytical solution is 49.43. Difference is 3.215600000000002\n",
      "The value of T(1) at step h=0.1 is 47.894275207999996. Analytical solution is 49.43. Difference is 1.5357247920000034\n",
      "The value of T(1) at step h=0.04 is 49.13357440696939. Analytical solution is 49.43. Difference is 0.29642559303061233\n"
     ]
    }
   ],
   "source": [
    "def euler(f, x0, y0, xf, h):\n",
    "    \"\"\"\n",
    "    Solve an ODE using the Euler's method.\n",
    "    \n",
    "    Parameters\n",
    "    ----------\n",
    "    f : function\n",
    "        The right-hand side of the ODE, i.e., dy/dx = f(x, y).\n",
    "    x0 : float\n",
    "        The initial value of the independent variable.\n",
    "    y0 : float\n",
    "        The initial value of the dependent variable.\n",
    "    xf : float\n",
    "        The final value of the independent variable.\n",
    "    h : float\n",
    "        The step size.\n",
    "    \n",
    "    Returns\n",
    "    -------\n",
    "    x : list\n",
    "        The values of the independent variable.\n",
    "    y : list\n",
    "        The values of the dependent variable.\n",
    "    \"\"\"\n",
    "    # Initialize lists to store the solution\n",
    "    y = [y0]\n",
    "    x = [x0]\n",
    "    \n",
    "    nsteps = math.floor((xf - x0) / h)\n",
    "    # Loop over the desired range of the independent variable\n",
    "    for i in range(nsteps):\n",
    "        y.append(y[-1] + h * f(x[-1] , y[-1]))\n",
    "        x.append(x[-1] + h)\n",
    "    return x, y\n",
    "\n",
    "f = lambda t,T : -(T - 20)\n",
    "\n",
    "# Compare value of T(1) under different h\n",
    "t,T = euler(f, 0, 100, 1, 0.2)\n",
    "print(f'The value of T(1) at step h=0.2 is {T[-1]}. Analytical solution is 49.43. Difference is {abs(T[-1]-49.43)}')\n",
    "t,T = euler(f, 0, 100, 1, 0.1)\n",
    "print(f'The value of T(1) at step h=0.1 is {T[-1]}. Analytical solution is 49.43. Difference is {abs(T[-1]-49.43)}')\n",
    "t,T = euler(f, 0, 100, 1, 0.02)\n",
    "print(f'The value of T(1) at step h=0.04 is {T[-1]}. Analytical solution is 49.43. Difference is {abs(T[-1]-49.43)}')\n"
   ]
  },
  {
   "cell_type": "code",
   "execution_count": 8,
   "metadata": {},
   "outputs": [
    {
     "data": {
      "image/png": "[encoded data removed]",
      "text/plain": [
       "<Figure size 432x288 with 1 Axes>"
      ]
     },
     "metadata": {
      "needs_background": "light"
     },
     "output_type": "display_data"
    }
   ],
   "source": [
    "# Plot exact value and Euler approximation\n",
    "hs = [0.002,0.02,0.1,0.2]\n",
    "diffs = []\n",
    "for h in hs:\n",
    "    t,T = euler(f,0,100,1,h)\n",
    "    diffs.append(abs(T[-1] - 80 * math.exp(-1) - 20))\n",
    "plt.plot(hs,diffs,'--o')\n",
    "plt.xlabel('h')\n",
    "plt.ylabel('Diff')\n",
    "plt.xscale('log')\n",
    "plt.yscale('log')\n",
    "plt.axis('equal')\n",
    "plt.grid()\n",
    "plt.show()\n"
   ]
  },
  {
   "cell_type": "code",
   "execution_count": 9,
   "metadata": {},
   "outputs": [
    {
     "name": "stdout",
     "output_type": "stream",
     "text": [
      "Nuemrical value of T(4)at step h=0.2 is 28.589934592. Analytical solution is 30.826822658929018. Difference is 2.236888066929019\n",
      "Nuemrical value of T(4)at step h=0.1 is 29.726132367245548. Analytical solution is 30.826822658929018. Difference is 1.1006902916834704\n",
      "Nuemrical value of T(4)at step h=0.01 is 30.718373988636934. Analytical solution is 30.826822658929018. Difference is 0.10844867029208416\n"
     ]
    },
    {
     "data": {
      "image/png": "[encoded data removed]",
      "text/plain": [
       "<Figure size 432x288 with 1 Axes>"
      ]
     },
     "metadata": {
      "needs_background": "light"
     },
     "output_type": "display_data"
    }
   ],
   "source": [
    "# Calculate T(2) under different h\n",
    "t = np.arange(0,2.01,0.01)\n",
    "y = np.array([80*math.exp(-i)+20 for i in t])\n",
    "plt.plot(t,y,label='Exact solution')\n",
    "plt.title('Approximation and Exact solution of Newton\\'s cooling law')\n",
    "plt.xlabel('t')\n",
    "plt.ylabel('f(t)')\n",
    "plt.grid()\n",
    "hs = [0.2,0.1,0.01]\n",
    "\n",
    "for h in hs:\n",
    "    t,T = euler(f,0,100,2,h)\n",
    "    print(f'Nuemrical value of T(4)at step h={h} is {T[-1]}. Analytical solution is {80*math.exp(-2)+20}. Difference is {abs(80*math.exp(-2)+20-T[-1])}')\n",
    "    plt.plot(t,T,'--',label=f'Approximate h={h}')\n",
    "\n",
    "plt.legend(loc='upper right')\n",
    "plt.show()"
   ]
  },
  {
   "cell_type": "markdown",
   "metadata": {},
   "source": []
  },
  {
   "cell_type": "code",
   "execution_count": null,
   "metadata": {},
   "outputs": [],
   "source": []
  }
 ],
 "metadata": {
  "kernelspec": {
   "display_name": "Python 3 (ipykernel)",
   "language": "python",
   "name": "python3"
  },
  "language_info": {
   "codemirror_mode": {
    "name": "ipython",
    "version": 3
   },
   "file_extension": ".py",
   "mimetype": "text/x-python",
   "name": "python",
   "nbconvert_exporter": "python",
   "pygments_lexer": "ipython3",
   "version": "3.9.13"
  },
  "vscode": {
   "interpreter": {
    "hash": "56a724022be73b01c4846531e8be100ed5def243897ed9e6394701cd28182959"
   }
  }
 },
 "nbformat": 4,
 "nbformat_minor": 2
}
